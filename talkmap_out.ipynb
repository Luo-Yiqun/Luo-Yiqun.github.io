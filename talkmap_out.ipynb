{
 "cells": [
  {
   "cell_type": "markdown",
   "metadata": {},
   "source": [
    "# Leaflet cluster map of talk locations\n",
    "\n",
    "Assuming you are working in a Linux or Windows Subsystem for Linux environment, you may need to install some dependencies. Assuming a clean installation, the following will be needed:\n",
    "\n",
    "```bash\n",
    "sudo apt install jupyter\n",
    "sudo apt install python3-pip\n",
    "pip install python-frontmatter getorg --upgrade\n",
    "```\n",
    "\n",
    "After which you can run this from the `_talks/` directory, via:\n",
    "\n",
    "```bash\n",
    " jupyter nbconvert --to notebook --execute talkmap.ipynb --output talkmap_out.ipynb\n",
    "```\n",
    " \n",
    "The `_talks/` directory contains `.md` files of all your talks. This scrapes the location YAML field from each `.md` file, geolocates it with `geopy/Nominatim`, and uses the `getorg` library to output data, HTML, and Javascript for a standalone cluster map."
   ]
  },
  {
   "cell_type": "code",
   "execution_count": 1,
   "metadata": {
    "collapsed": false,
    "execution": {
     "iopub.execute_input": "2025-05-16T15:44:10.538067Z",
     "iopub.status.busy": "2025-05-16T15:44:10.538067Z",
     "iopub.status.idle": "2025-05-16T15:44:39.435547Z",
     "shell.execute_reply": "2025-05-16T15:44:39.433521Z"
    }
   },
   "outputs": [
    {
     "name": "stderr",
     "output_type": "stream",
     "text": [
      "WARNING: Skipping C:\\Users\\18000\\anaconda3\\Lib\\site-packages\\numpy-1.26.3.dist-info due to invalid metadata entry 'name'\n",
      "WARNING: Skipping C:\\Users\\18000\\anaconda3\\Lib\\site-packages\\numpy-1.26.3.dist-info due to invalid metadata entry 'name'\n",
      "DEPRECATION: Loading egg at c:\\users\\18000\\anaconda3\\lib\\site-packages\\dbaautomator-0.1.0-py3.11.egg is deprecated. pip 24.3 will enforce this behaviour change. A possible replacement is to use pip for package installation.. Discussion can be found at https://github.com/pypa/pip/issues/12330\n",
      "DEPRECATION: Loading egg at c:\\users\\18000\\anaconda3\\lib\\site-packages\\fonttools-4.47.0-py3.11-win-amd64.egg is deprecated. pip 24.3 will enforce this behaviour change. A possible replacement is to use pip for package installation.. Discussion can be found at https://github.com/pypa/pip/issues/12330\n",
      "DEPRECATION: Loading egg at c:\\users\\18000\\anaconda3\\lib\\site-packages\\palettable-3.3.3-py3.11.egg is deprecated. pip 24.3 will enforce this behaviour change. A possible replacement is to use pip for package installation.. Discussion can be found at https://github.com/pypa/pip/issues/12330\n",
      "DEPRECATION: Loading egg at c:\\users\\18000\\anaconda3\\lib\\site-packages\\pybtex-0.24.0-py3.11.egg is deprecated. pip 24.3 will enforce this behaviour change. A possible replacement is to use pip for package installation.. Discussion can be found at https://github.com/pypa/pip/issues/12330\n",
      "DEPRECATION: Loading egg at c:\\users\\18000\\anaconda3\\lib\\site-packages\\pymatgen-2023.12.18-py3.11-win-amd64.egg is deprecated. pip 24.3 will enforce this behaviour change. A possible replacement is to use pip for package installation.. Discussion can be found at https://github.com/pypa/pip/issues/12330\n",
      "DEPRECATION: Loading egg at c:\\users\\18000\\anaconda3\\lib\\site-packages\\uncertainties-3.1.7-py3.11.egg is deprecated. pip 24.3 will enforce this behaviour change. A possible replacement is to use pip for package installation.. Discussion can be found at https://github.com/pypa/pip/issues/12330\n",
      "WARNING: Skipping C:\\Users\\18000\\anaconda3\\Lib\\site-packages\\numpy-1.26.3.dist-info due to invalid metadata entry 'name'\n",
      "WARNING: Skipping C:\\Users\\18000\\anaconda3\\Lib\\site-packages\\numpy-1.26.3.dist-info due to invalid metadata entry 'name'\n",
      "WARNING: Skipping C:\\Users\\18000\\anaconda3\\Lib\\site-packages\\numpy-1.26.3.dist-info due to invalid metadata entry 'name'\n",
      "WARNING: Skipping C:\\Users\\18000\\anaconda3\\Lib\\site-packages\\numpy-1.26.3.dist-info due to invalid metadata entry 'name'\n",
      "WARNING: Skipping C:\\Users\\18000\\anaconda3\\Lib\\site-packages\\numpy-1.26.3.dist-info due to invalid metadata entry 'name'\n"
     ]
    },
    {
     "name": "stdout",
     "output_type": "stream",
     "text": [
      "Collecting python-frontmatter\n",
      "  Downloading python_frontmatter-1.1.0-py3-none-any.whl.metadata (4.1 kB)\n",
      "Requirement already satisfied: getorg in c:\\users\\18000\\anaconda3\\lib\\site-packages (0.3.1)\n",
      "Requirement already satisfied: PyYAML in c:\\users\\18000\\anaconda3\\lib\\site-packages (from python-frontmatter) (5.1)\n",
      "Requirement already satisfied: geopy in c:\\users\\18000\\anaconda3\\lib\\site-packages (from getorg) (2.4.1)\n",
      "Requirement already satisfied: pygithub in c:\\users\\18000\\anaconda3\\lib\\site-packages (from getorg) (2.6.1)\n",
      "Requirement already satisfied: retrying in c:\\users\\18000\\anaconda3\\lib\\site-packages (from getorg) (1.3.4)\n",
      "Requirement already satisfied: geographiclib<3,>=1.52 in c:\\users\\18000\\anaconda3\\lib\\site-packages (from geopy->getorg) (2.0)\n",
      "Requirement already satisfied: pynacl>=1.4.0 in c:\\users\\18000\\anaconda3\\lib\\site-packages (from pygithub->getorg) (1.5.0)\n",
      "Requirement already satisfied: requests>=2.14.0 in c:\\users\\18000\\anaconda3\\lib\\site-packages (from pygithub->getorg) (2.31.0)\n",
      "Requirement already satisfied: pyjwt>=2.4.0 in c:\\users\\18000\\anaconda3\\lib\\site-packages (from pyjwt[crypto]>=2.4.0->pygithub->getorg) (2.4.0)\n",
      "Requirement already satisfied: typing-extensions>=4.0.0 in c:\\users\\18000\\anaconda3\\lib\\site-packages (from pygithub->getorg) (4.12.2)\n",
      "Requirement already satisfied: urllib3>=1.26.0 in c:\\users\\18000\\anaconda3\\lib\\site-packages (from pygithub->getorg) (2.2.1)\n",
      "Requirement already satisfied: Deprecated in c:\\users\\18000\\anaconda3\\lib\\site-packages (from pygithub->getorg) (1.2.18)\n",
      "Requirement already satisfied: six>=1.7.0 in c:\\users\\18000\\anaconda3\\lib\\site-packages (from retrying->getorg) (1.16.0)\n",
      "Requirement already satisfied: cryptography>=3.3.1 in c:\\users\\18000\\anaconda3\\lib\\site-packages (from pyjwt[crypto]>=2.4.0->pygithub->getorg) (42.0.5)\n",
      "Requirement already satisfied: cffi>=1.4.1 in c:\\users\\18000\\anaconda3\\lib\\site-packages (from pynacl>=1.4.0->pygithub->getorg) (1.16.0)\n",
      "Requirement already satisfied: charset-normalizer<4,>=2 in c:\\users\\18000\\anaconda3\\lib\\site-packages (from requests>=2.14.0->pygithub->getorg) (3.3.2)\n",
      "Requirement already satisfied: idna<4,>=2.5 in c:\\users\\18000\\anaconda3\\lib\\site-packages (from requests>=2.14.0->pygithub->getorg) (3.10)\n",
      "Requirement already satisfied: certifi>=2017.4.17 in c:\\users\\18000\\anaconda3\\lib\\site-packages (from requests>=2.14.0->pygithub->getorg) (2024.2.2)\n",
      "Requirement already satisfied: wrapt<2,>=1.10 in c:\\users\\18000\\anaconda3\\lib\\site-packages (from Deprecated->pygithub->getorg) (1.14.1)\n",
      "Requirement already satisfied: pycparser in c:\\users\\18000\\anaconda3\\lib\\site-packages (from cffi>=1.4.1->pynacl>=1.4.0->pygithub->getorg) (2.21)\n",
      "Downloading python_frontmatter-1.1.0-py3-none-any.whl (9.8 kB)\n",
      "Installing collected packages: python-frontmatter\n",
      "Successfully installed python-frontmatter-1.1.0\n",
      "Iywidgets and ipyleaflet support disabled. You must be in a Jupyter notebook to use this feature.\n",
      "Error raised:\n",
      "No module named 'ipyleaflet'\n",
      "Check that you have enabled ipyleaflet in Jupyter with:\n",
      "    jupyter nbextension enable --py ipyleaflet\n"
     ]
    }
   ],
   "source": [
    "# Start by installing the dependencies\n",
    "!pip install python-frontmatter getorg --upgrade\n",
    "import frontmatter\n",
    "import glob\n",
    "import getorg\n",
    "from geopy import Nominatim\n",
    "from geopy.exc import GeocoderTimedOut"
   ]
  },
  {
   "cell_type": "code",
   "execution_count": 2,
   "metadata": {
    "collapsed": false,
    "execution": {
     "iopub.execute_input": "2025-05-16T15:44:39.440537Z",
     "iopub.status.busy": "2025-05-16T15:44:39.440537Z",
     "iopub.status.idle": "2025-05-16T15:44:39.451389Z",
     "shell.execute_reply": "2025-05-16T15:44:39.449644Z"
    }
   },
   "outputs": [],
   "source": [
    "# Collect the Markdown files\n",
    "g = glob.glob(\"_talks/*.md\")"
   ]
  },
  {
   "cell_type": "code",
   "execution_count": 3,
   "metadata": {
    "collapsed": true,
    "execution": {
     "iopub.execute_input": "2025-05-16T15:44:39.457391Z",
     "iopub.status.busy": "2025-05-16T15:44:39.457391Z",
     "iopub.status.idle": "2025-05-16T15:44:39.813648Z",
     "shell.execute_reply": "2025-05-16T15:44:39.812096Z"
    }
   },
   "outputs": [],
   "source": [
    "# Set the default timeout, in seconds\n",
    "TIMEOUT = 5\n",
    "\n",
    "# Prepare to geolocate\n",
    "geocoder = Nominatim(user_agent=\"academicpages.github.io\")\n",
    "location_dict = {}\n",
    "location = \"\"\n",
    "permalink = \"\"\n",
    "title = \"\""
   ]
  },
  {
   "cell_type": "markdown",
   "metadata": {},
   "source": [
    "In the event that this times out with an error, double check to make sure that the location is can be properly geolocated."
   ]
  },
  {
   "cell_type": "code",
   "execution_count": 4,
   "metadata": {
    "collapsed": false,
    "execution": {
     "iopub.execute_input": "2025-05-16T15:44:39.818654Z",
     "iopub.status.busy": "2025-05-16T15:44:39.818654Z",
     "iopub.status.idle": "2025-05-16T15:44:43.898522Z",
     "shell.execute_reply": "2025-05-16T15:44:43.895495Z"
    }
   },
   "outputs": [
    {
     "name": "stdout",
     "output_type": "stream",
     "text": [
      "Inverse Design of Tetracene Polymorphs with Enhanced Singlet Fission Performance by Property-Based Genetic Algorithm Optimization<br />UC Boulder, Department of Chemistry and Biochemistry; Estes Park, CO, USA Estes Park, Larimer County, Colorado, 80517, United States\n",
      "Computational Discovery of Intermolecular Singlet Fission Materials Using Many-Body Perturbation Theory<br />American Physical Society (APS) March Meeting; Anaheim, CA, USA Anaheim, Orange County, California, United States\n",
      "Predicting the excited-state properties of crystalline organic semiconductors using GW+BSE and machine learning<br />American Physical Society (APS) March Meeting; Anaheim, CA, USA Anaheim, Orange County, California, United States\n",
      "Predicting the excited-state properties of crystalline organic semiconductors using GW+BSE and machine learning<br />University of Pennsylvania, Department of Chemistry; Philadelphia, PA, USA Philadelphia, Philadelphia County, Pennsylvania, United States\n"
     ]
    }
   ],
   "source": [
    "# Perform geolocation\n",
    "for file in g:\n",
    "    # Read the file\n",
    "    data = frontmatter.load(file)\n",
    "    data = data.to_dict()\n",
    "\n",
    "    # Press on if the location is not present\n",
    "    if 'location' not in data:\n",
    "        continue\n",
    "\n",
    "    # Prepare the description\n",
    "    title = data['title'].strip()\n",
    "    venue = data['venue'].strip()\n",
    "    location = data['location'].strip()\n",
    "    description = f\"{title}<br />{venue}; {location}\"\n",
    "\n",
    "    # Geocode the location and report the status\n",
    "    try:\n",
    "        location_dict[description] = geocoder.geocode(location, timeout=TIMEOUT)\n",
    "        print(description, location_dict[description])\n",
    "    except ValueError as ex:\n",
    "        print(f\"Error: geocode failed on input {location} with message {ex}\")\n",
    "    except GeocoderTimedOut as ex:\n",
    "        print(f\"Error: geocode timed out on input {location} with message {ex}\")\n",
    "    except Exception as ex:\n",
    "        print(f\"An unhandled exception occurred while processing input {location} with message {ex}\")"
   ]
  },
  {
   "cell_type": "code",
   "execution_count": 5,
   "metadata": {
    "collapsed": false,
    "execution": {
     "iopub.execute_input": "2025-05-16T15:44:43.910130Z",
     "iopub.status.busy": "2025-05-16T15:44:43.910130Z",
     "iopub.status.idle": "2025-05-16T15:44:44.022552Z",
     "shell.execute_reply": "2025-05-16T15:44:44.014580Z"
    }
   },
   "outputs": [
    {
     "data": {
      "text/plain": [
       "'Written map to talkmap/'"
      ]
     },
     "execution_count": 5,
     "metadata": {},
     "output_type": "execute_result"
    }
   ],
   "source": [
    "# Save the map\n",
    "m = getorg.orgmap.create_map_obj()\n",
    "getorg.orgmap.output_html_cluster_map(location_dict, folder_name=\"talkmap\", hashed_usernames=False)"
   ]
  },
  {
   "cell_type": "code",
   "execution_count": null,
   "metadata": {
    "collapsed": true
   },
   "outputs": [],
   "source": []
  }
 ],
 "metadata": {
  "anaconda-cloud": {},
  "kernelspec": {
   "display_name": "Python 3",
   "language": "python",
   "name": "python3"
  },
  "language_info": {
   "codemirror_mode": {
    "name": "ipython",
    "version": 3
   },
   "file_extension": ".py",
   "mimetype": "text/x-python",
   "name": "python",
   "nbconvert_exporter": "python",
   "pygments_lexer": "ipython3",
   "version": "3.11.5"
  }
 },
 "nbformat": 4,
 "nbformat_minor": 0
}
